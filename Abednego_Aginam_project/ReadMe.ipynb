{
 "cells": [
  {
   "cell_type": "markdown",
   "metadata": {},
   "source": [
    "####                                                       Read Me file"
   ]
  },
  {
   "cell_type": "markdown",
   "metadata": {},
   "source": [
    "For the project the following libraries were used\n",
    "-- pandas\n",
    "-- numpy\n",
    "-- seaborn\n",
    "-- matplotlib"
   ]
  },
  {
   "cell_type": "markdown",
   "metadata": {},
   "source": [
    "The dataset is Loaded by matching the pathnames and then combining the files into a single file\n",
    "\n",
    "To explore the data, several data exploration techniques are used including\n",
    "-- head() method to view first few rows of the dataset\n",
    "-- shape attribute to checkk number of rows and columns\n",
    "-- columns attribute to generate the names of the columns \n",
    "-- Udescribe function to generate the statistical summary of the dataframe\n",
    "-- Use of isnull() to check for Missing values\n",
    "-- info method to check the information of the DataFrame\n",
    "\n",
    "\n",
    "-- the to_datetime() function is used to convert the date and time column to datetime\n",
    "-- Accurate conversion of the time column & prints appropriate data type\n",
    "-- Accurate extraction of the Day, Month, Year & Hour features\n",
    "-- The numbers of unique hours of sales in the supermarket are accurately determined.\n",
    "\n",
    "\n",
    "-- Use of unique() method to generate the unique values in the categorical columns\n",
    "-- Generated the count figure of the categorical values using the value_counts() method.\n",
    "\n",
    "\n",
    "-- A groupby object is created with the \"City Column\",\n",
    "-- A table that shows the gross income of each city is genenrated and the highest total gross income is obtained.\n",
    "\n",
    "\n",
    "To visualize the data, the seaborn library is used, most especially the countplot function\n",
    "-- the branch with the highest sales record is determined.\n",
    "-- the most used payment method & city with the most sales is also determined.\n",
    "-- the highest & lowest sold product line is obtained.\n",
    "-- gender influence on kind of goods purchased is also obtained.\n",
    "-- Additionally, the customer type sales record is also obtained\n"
   ]
  }
 ],
 "metadata": {
  "kernelspec": {
   "display_name": "Python 3",
   "language": "python",
   "name": "python3"
  },
  "language_info": {
   "codemirror_mode": {
    "name": "ipython",
    "version": 3
   },
   "file_extension": ".py",
   "mimetype": "text/x-python",
   "name": "python",
   "nbconvert_exporter": "python",
   "pygments_lexer": "ipython3",
   "version": "3.8.5"
  }
 },
 "nbformat": 4,
 "nbformat_minor": 4
}
