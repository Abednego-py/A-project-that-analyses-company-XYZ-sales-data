{
 "cells": [
  {
   "cell_type": "markdown",
   "metadata": {},
   "source": [
    "###### Executive Summary"
   ]
  },
  {
   "cell_type": "markdown",
   "metadata": {},
   "source": [
    "### Trends from the data generated from the three stores"
   ]
  },
  {
   "cell_type": "markdown",
   "metadata": {},
   "source": [
    "1. Most customers are reasonably satisfied with the shopping experience.\n",
    "2. The city with the highest gross income is Port Harcourt.\n",
    "3. food and beverages have the highest gross income.\n",
    "4. Branch A(Lagos) has the highest sales record, followed by B, and then C.\n",
    "5. The most used payment method is epay, followed by cash,and then card.\n",
    "6. The most sold product line in descending order: fashion accessories, food and beverages, electronic accessories,sports and travel items, home and lifestyle items, and health and beauty items.\n",
    " 7. Accross each payment methods, customers prefer to use \n",
    " a. card for food and beverages items\n",
    " b. epay for fashion accesories\n",
    " c. cash for electronic accessories\n",
    " d. cash for sports and travel items\n",
    " e. epay for home and travel items\n",
    " f. epay for health and beauty items\n",
    " \n",
    " 8. Accross each branch;\n",
    " a. Customers in branch A prefer to use epay.\n",
    " b. customers in branch B prefer to use epay.\n",
    " c. customers in branch C prefer to use cash.\n",
    " \n",
    " 9. The rating of branch in descending order: Branch A, Branch C and Branch B i.e Abuja branch has the lowest rating.\n",
    " \n",
    "10. Females purchase more of fashion accessories products, food and suprisingly sporting items, While their male counterparts are more interested in electronic accessories amongst others.\n",
    "\n",
    "11. \n",
    "a. Fashion accessories cost more and is purchased less by customers.\n",
    "b. Electronic accessories cost less and is purchased more by customers.\n",
    "c. Generally speaking, products that have lower cost are purchased more by customers across the three branches.\n",
    "\n",
    "12. The 5% tax is equal to the gross income.\n",
    "\n",
    "13. It is surprising to notice that normal customers to better in branch A and B whereas member customers do better in branch C"
   ]
  },
  {
   "cell_type": "code",
   "execution_count": null,
   "metadata": {},
   "outputs": [],
   "source": []
  }
 ],
 "metadata": {
  "kernelspec": {
   "display_name": "Python 3",
   "language": "python",
   "name": "python3"
  },
  "language_info": {
   "codemirror_mode": {
    "name": "ipython",
    "version": 3
   },
   "file_extension": ".py",
   "mimetype": "text/x-python",
   "name": "python",
   "nbconvert_exporter": "python",
   "pygments_lexer": "ipython3",
   "version": "3.8.5"
  }
 },
 "nbformat": 4,
 "nbformat_minor": 4
}
